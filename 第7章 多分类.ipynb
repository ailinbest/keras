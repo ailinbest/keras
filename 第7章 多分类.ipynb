{
 "cells": [
  {
   "cell_type": "code",
   "execution_count": 21,
   "metadata": {},
   "outputs": [],
   "source": [
    "import numpy as np\n",
    "from sklearn import datasets\n",
    "from keras.wrappers.scikit_learn import KerasClassifier\n",
    "from keras.models import Sequential\n",
    "from keras.layers import Dense\n",
    "from sklearn.model_selection import cross_val_score\n",
    "from sklearn.model_selection import KFold"
   ]
  },
  {
   "cell_type": "markdown",
   "metadata": {},
   "source": [
    "# 导入数据集"
   ]
  },
  {
   "cell_type": "code",
   "execution_count": 10,
   "metadata": {},
   "outputs": [],
   "source": [
    "#导入数据集，每个样本有四个特征，三分类问题\n",
    "iris = datasets.load_iris()"
   ]
  },
  {
   "cell_type": "code",
   "execution_count": 11,
   "metadata": {},
   "outputs": [
    {
     "name": "stdout",
     "output_type": "stream",
     "text": [
      "(150, 4)\n"
     ]
    }
   ],
   "source": [
    "X = iris.data\n",
    "y = iris.target\n",
    "print(X.shape)"
   ]
  },
  {
   "cell_type": "code",
   "execution_count": 13,
   "metadata": {},
   "outputs": [],
   "source": [
    "seed = 7\n",
    "np.random.seed = seed"
   ]
  },
  {
   "cell_type": "markdown",
   "metadata": {},
   "source": [
    "# 创建模型"
   ]
  },
  {
   "cell_type": "markdown",
   "metadata": {},
   "source": [
    "- 是一个全连接网络，一个输入层，两个隐藏层和一个输出层\n",
    "- 多分类问题的输出层通常具有与分类类别相同的神经元个数，这里是三个\n",
    "- 第一个隐藏层包含4个神经元，激活函数是relu\n",
    "- 第二个隐藏层6个神经元，激活函数是relu\n",
    "- 输出层有3个神经元，激活函数是softmax\n",
    "- softmax可以输出每个类值的概率\n",
    "- Adam优化器，是一种在深度学习模型中用来替换随机梯度下降的优化算法，调参简单，可以处理绝大部分问题\n",
    "- 损失函数使用分类交叉熵的对数损失函数"
   ]
  },
  {
   "cell_type": "code",
   "execution_count": 16,
   "metadata": {},
   "outputs": [],
   "source": [
    "def create_model(optimizer='adam',init='glorot_uniform'):\n",
    "    model = Sequential()\n",
    "    model.add(Dense(units=4,input_dim=4,activation='relu',kernel_initializer=init))\n",
    "    model.add(Dense(units=6,activation='relu',kernel_initializer=init))\n",
    "    model.add(Dense(units=3,activation='softmax',kernel_initializer=init))\n",
    "    \n",
    "    model.compile(loss='categorical_crossentropy',optimizer=optimizer,metrics=['accuracy'])\n",
    "    return model"
   ]
  },
  {
   "cell_type": "code",
   "execution_count": 17,
   "metadata": {},
   "outputs": [],
   "source": [
    "# 创建包装类\n",
    "model = KerasClassifier(build_fn=create_model,epochs=200,batch_size=5,verbose=1)"
   ]
  },
  {
   "cell_type": "markdown",
   "metadata": {},
   "source": [
    "# 模型评估"
   ]
  },
  {
   "cell_type": "code",
   "execution_count": 22,
   "metadata": {},
   "outputs": [],
   "source": [
    "kfold = KFold(n_splits=10,random_state=seed,shuffle=True)\n",
    "results = cross_val_score(X=X,y=y,estimator=model,cv=kfold,n_jobs=-1)"
   ]
  },
  {
   "cell_type": "code",
   "execution_count": 31,
   "metadata": {},
   "outputs": [
    {
     "name": "stdout",
     "output_type": "stream",
     "text": [
      "accuracy:96.00%(0.05))\n"
     ]
    }
   ],
   "source": [
    "print('accuracy:%.2f%%(%.2f))' % (results.mean()*100,results.std()))"
   ]
  },
  {
   "cell_type": "code",
   "execution_count": 32,
   "metadata": {},
   "outputs": [
    {
     "data": {
      "text/plain": [
       "array([0.93333334, 1.        , 1.        , 1.        , 1.        ,\n",
       "       1.        , 1.        , 0.86666667, 0.93333334, 0.86666667])"
      ]
     },
     "execution_count": 32,
     "metadata": {},
     "output_type": "execute_result"
    }
   ],
   "source": [
    "results"
   ]
  },
  {
   "cell_type": "code",
   "execution_count": null,
   "metadata": {},
   "outputs": [],
   "source": []
  }
 ],
 "metadata": {
  "kernelspec": {
   "display_name": "Python 3",
   "language": "python",
   "name": "python3"
  },
  "language_info": {
   "codemirror_mode": {
    "name": "ipython",
    "version": 3
   },
   "file_extension": ".py",
   "mimetype": "text/x-python",
   "name": "python",
   "nbconvert_exporter": "python",
   "pygments_lexer": "ipython3",
   "version": "3.6.5"
  }
 },
 "nbformat": 4,
 "nbformat_minor": 2
}
